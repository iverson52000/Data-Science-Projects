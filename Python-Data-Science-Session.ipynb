{
 "cells": [
  {
   "cell_type": "markdown",
   "metadata": {},
   "source": [
    "## 0/ WHAT IS JUPYTER\n",
    "\n",
    "- It is a platform for Python developers \n",
    "    - It can run Python code\n",
    "    - It can also hold notes\n",
    "\n",
    "- It compiles Python code and shows the result within the file"
   ]
  },
  {
   "cell_type": "code",
   "execution_count": null,
   "metadata": {
    "tags": []
   },
   "outputs": [],
   "source": [
    "# sum is a varible \n",
    "sum = 2 + 2\n",
    "\n",
    "# print sum\n",
    "print(sum)\n"
   ]
  },
  {
   "cell_type": "markdown",
   "metadata": {},
   "source": [
    "***\n",
    "\n",
    "## 1/ DEFINE PROBLEM\n",
    "\n",
    "### Project Summary\n",
    "- You work as a data scientist at a used car buying and selling company\n",
    "- Your goal is to predict the prices of cars based on historical car data\n",
    "\n",
    "### Given Car Dataset\n",
    "\n",
    "- Used car data from 1985\n",
    "\n",
    "\n",
    "### Goal: \n",
    "\n",
    "- Predict price of car based on engine size\n",
    "    - target variable (what to predict): price\n",
    "    - predictor variable (what is given to us): engine-size\n"
   ]
  },
  {
   "cell_type": "markdown",
   "metadata": {},
   "source": [
    "***\n",
    "\n",
    "## 2/ DATA ACQUISITON\n",
    "\n",
    "#### What is Pandas?\n",
    "\n",
    "- Pandas is a Python library to work with DataFrames \n",
    "- For data manipulaton and analysis"
   ]
  },
  {
   "cell_type": "code",
   "execution_count": null,
   "metadata": {},
   "outputs": [],
   "source": [
    "## import library called pandas \n",
    "import pandas as pd \n",
    "\n",
    "## import dataset using pandas from an online repository\n",
    "data = pd.read_csv('https://archive.ics.uci.edu/ml/machine-learning-databases/autos/imports-85.data')\n",
    "## data = Pandas DataFrame which has many built in functions\n",
    "\n",
    "## add column labels \n",
    "header = ['symboling','normalized-losses','make','fuel-type','aspiration','num-of-doors','body-style','drive-wheels','engine-location','wheel-base','length','width','height','curb-weight','engine-type','num-of-cylinders','engine-size','fuel-system','bore','stroke','compression-ratio','horsepower','peak-rpm','city-mpg','highway-mpg','price']\n",
    "data.columns = header\n",
    "\n",
    "## check data and inspect missing values\n",
    "data.head()\n",
    "\n",
    "\n",
    "\n"
   ]
  },
  {
   "cell_type": "code",
   "execution_count": null,
   "metadata": {},
   "outputs": [],
   "source": [
    "data.shape"
   ]
  },
  {
   "cell_type": "markdown",
   "metadata": {},
   "source": [
    "***\n",
    "\n",
    "## 3/ DATA PREPARATION\n",
    "\n",
    "#### a/ missing value clean-up\n",
    "\n",
    "- missing values in this dataset are denoted by ‘?’\n",
    "    - these cannot be dropped directly\n",
    "- replace them with numpy NaN values and drop the corresponding observations\n",
    "\n",
    "#### What is NumPy?\n",
    "\n",
    "- it is a Python library for working with datasets and matrices"
   ]
  },
  {
   "cell_type": "code",
   "execution_count": null,
   "metadata": {},
   "outputs": [],
   "source": [
    "## import library called numpy\n",
    "import numpy as np\n",
    "\n",
    "## replace '?' with numpy NaN (not a number)\n",
    "data.replace('?', np.nan, inplace=True)\n",
    "\n",
    "## drop the rows with NaN\n",
    "data.dropna(inplace=True)\n",
    "\n",
    "## check cleaned up data for engine-size\n",
    "data[['engine-size','price']]\n",
    "\n",
    "\n"
   ]
  },
  {
   "cell_type": "markdown",
   "metadata": {},
   "source": [
    " #### b/ data-type clean-up\n",
    " \n"
   ]
  },
  {
   "cell_type": "code",
   "execution_count": null,
   "metadata": {
    "tags": []
   },
   "outputs": [],
   "source": [
    " print(data.dtypes)\n",
    " \n"
   ]
  },
  {
   "cell_type": "code",
   "execution_count": null,
   "metadata": {},
   "outputs": [],
   "source": [
    " ## change the data type from Object to integer\n",
    " data['price'] = data['price'].astype('int')"
   ]
  },
  {
   "cell_type": "markdown",
   "metadata": {},
   "source": [
    "***\n",
    "\n",
    "## 4/ EXPLORATORY DATA ANALYSIS\n",
    "\n",
    "- Engine-Size is a continuous variable \n",
    "- check out a short statistical summary\n",
    "\n"
   ]
  },
  {
   "cell_type": "code",
   "execution_count": null,
   "metadata": {},
   "outputs": [],
   "source": [
    "data['engine-size'].describe()\n",
    "# does describe take input parameters"
   ]
  },
  {
   "cell_type": "markdown",
   "metadata": {},
   "source": [
    "- check correlation between engine size and price\n",
    "\n",
    "#### What is Seaborn?\n",
    "\n",
    "- Seaborn is a data visualization Python library"
   ]
  },
  {
   "cell_type": "code",
   "execution_count": null,
   "metadata": {},
   "outputs": [],
   "source": [
    "import seaborn as sns\n",
    "\n",
    "sns.regplot(x=\"engine-size\", y=\"price\", data=data)"
   ]
  },
  {
   "cell_type": "markdown",
   "metadata": {},
   "source": [
    "***\n",
    "\n",
    "## 5/ DATA MODELLING\n",
    "\n",
    "- setup simple empty linear regression model to be used to predict price from engine-size\n",
    "- we fit a line with equation: $$y = mx + c$$\n",
    "    - we are trying to get 'm' and 'c' to predict 'y' (price) from 'x' (engine-size)\n",
    "\n",
    "#### What is SkLearn\n",
    "\n",
    "- it is a Python library for machine learning\n",
    "\n"
   ]
  },
  {
   "cell_type": "code",
   "execution_count": null,
   "metadata": {},
   "outputs": [],
   "source": [
    "# for linear regression:\n",
    "from sklearn.linear_model import LinearRegression\n",
    "\n",
    "# initialize a linear model\n",
    "lm_engine_size = LinearRegression()\n"
   ]
  },
  {
   "cell_type": "markdown",
   "metadata": {},
   "source": [
    "- training the linear model"
   ]
  },
  {
   "cell_type": "code",
   "execution_count": null,
   "metadata": {},
   "outputs": [],
   "source": [
    "\n",
    "# fit the linear model\n",
    "lm_engine_size.fit( data[['engine-size']] , data['price'] )"
   ]
  },
  {
   "cell_type": "markdown",
   "metadata": {},
   "source": [
    "- inspect the linear model created \n",
    "    - linear model: y = mx + c"
   ]
  },
  {
   "cell_type": "code",
   "execution_count": null,
   "metadata": {
    "tags": []
   },
   "outputs": [],
   "source": [
    "print('c = ',lm_engine_size.intercept_)\n",
    "print('m = ',lm_engine_size.coef_)"
   ]
  },
  {
   "cell_type": "markdown",
   "metadata": {},
   "source": [
    "***\n",
    "\n",
    "## 6/ VISUALIZATION OF THE MODEL\n",
    "\n",
    "#### What is matplotlib?\n",
    "\n",
    "- this is a Python library for data visualization "
   ]
  },
  {
   "cell_type": "code",
   "execution_count": null,
   "metadata": {},
   "outputs": [],
   "source": [
    "from matplotlib import pyplot as plt\n",
    "\n",
    "# initizlize plot   \n",
    "plt.figure(0)\n",
    "\n",
    "# plot the scatter plot for engine-size and price\n",
    "plt.scatter(data[['engine-size']], data['price'])\n",
    "\n",
    "# add labels\n",
    "plt.xlabel('engine-size')\n",
    "plt.ylabel('price')\n",
    "\n",
    "# find the bounds of x values\n",
    "x_bounds = plt.xlim()\n",
    "# y_bounds = plt.ylim()\n",
    "# print(x_bounds, y_bounds)\n",
    "\n",
    "# draw the best-fit line\n",
    "x_vals = np.linspace(x_bounds[0],x_bounds[1],num=50)\n",
    "y_vals = lm_engine_size.intercept_ + lm_engine_size.coef_ * x_vals\n",
    "# print(x_vals, y_vals)\n",
    "\n",
    "plt.plot(x_vals, y_vals, '--')\n",
    "\n",
    "plt.title('Engine-Size based Linear Price Estimator')"
   ]
  },
  {
   "cell_type": "markdown",
   "metadata": {},
   "source": [
    "***\n",
    "\n",
    "## Use Case of this System \n",
    "\n",
    "- if the car engine-size is 150, the price should be 16442.71"
   ]
  },
  {
   "cell_type": "code",
   "execution_count": null,
   "metadata": {
    "tags": []
   },
   "outputs": [],
   "source": [
    "\n",
    "## y (price) = m (linear co-efficient) * x ( engine-size ) + c (linear intercept)\n",
    "price = ( lm_engine_size.coef_[0] * (150) ) + lm_engine_size.intercept_\n",
    "print(price)"
   ]
  },
  {
   "cell_type": "code",
   "execution_count": null,
   "metadata": {},
   "outputs": [],
   "source": []
  }
 ],
 "metadata": {
  "language_info": {
   "codemirror_mode": {
    "name": "ipython",
    "version": 3
   },
   "file_extension": ".py",
   "mimetype": "text/x-python",
   "name": "python",
   "nbconvert_exporter": "python",
   "pygments_lexer": "ipython3",
   "version": "3.6.9-final"
  },
  "orig_nbformat": 2,
  "kernelspec": {
   "name": "python_defaultSpec_1596743389367",
   "display_name": "Python 3.8.3 64-bit"
  }
 },
 "nbformat": 4,
 "nbformat_minor": 2
}